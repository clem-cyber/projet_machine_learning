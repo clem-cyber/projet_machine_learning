{
 "cells": [
  {
   "cell_type": "markdown",
   "id": "4357ba96",
   "metadata": {},
   "source": [
    "# Rapport de projet - Modélisation et Résolution de problème \n",
    "\n",
    "Enseignant : M.HARISPE Sébatien\n",
    "\n",
    "Auteurs : M.DARDAILLON Enzo, M.DELFINO Clément\n",
    "\n",
    "## Sommaire\n",
    "1. [Introduction](#Introduction)\n",
    "2. [Présentation du projet](#Présentation-du-projet)\n",
    "3. [Exploration du jeu de données](#Exploration-du-jeu-de-données)\n",
    "  1. [Analyse](#Analyse)\n",
    "  2. [Nettoyage](#Nettoyage)\n",
    "4. [Modélisation](#Modélisation)\n",
    "  1. [Modélisation du problème](#Modélisation-du-problème)\n",
    "  2. [Définition de la méthodologie](#Définition-de-la-méthodologie)\n",
    "5. [Implémentation](#Implémentation)\n",
    "6. [Résultats](#Résultats)\n",
    "  2. [Pour aller plus loin](#Pour-aller-plus-loin)\n",
    "7. [Conclusion](#Conclusion)"
   ]
  },
  {
   "cell_type": "markdown",
   "id": "87a79ae4",
   "metadata": {},
   "source": [
    "## Introduction\n",
    "Ce document fait référence au projet du cours Modélisation et Résolution de problème à l'IMT Mines Alès. Lors des sessions de cours, les étudiants ont pu découvrir le domaine de l'Intelligence Artificiel (IA). Ce vaste sujet se divise en plusieurs sous-groupes. Dans le cadre de la formation, l'apprentissage supervisé a été étudié. Il s'agit d'une branche de l'apprentissage automatisé (Machine Learning en anglais). La technologie apprise consiste à prédire un résultat à partir d'un modèle complexe. Ce dernier s'est entrainé sur un jeu de données préparé à l'avance. C'est-à-dire que les données ont été nettoyée et préparé pour le développement de cette IA.\n",
    "\n",
    "Les projets doivent être réalisés par groupe de deux à trois étudiants. Ce document est réalisé et rédigé par DARDAILLON Enzo et DELFINO Clément lors de la deuxième année d'école d'ingénieur (Promotion INFRES 14). Le livrable contient un fichier PDF ainsi qu'un fichier de type Jupyter."
   ]
  },
  {
   "cell_type": "markdown",
   "id": "1fc12fbc",
   "metadata": {},
   "source": [
    "## Présentation du projet\n",
    "L'objectif de ce projet est de réaliser un algorithme d'apprentissage supervisé, sur un sujet libre, choisi par les étudiants. Ce rapport va s'intéresser à la reconnaissance d'une image. Le but est de trouver quel chiffre est contenu dans une image. Le format et les caractéristiques sont détaillés ultérieurement."
   ]
  },
  {
   "cell_type": "markdown",
   "id": "7f6e916c",
   "metadata": {},
   "source": [
    "## Exploration du jeu de données\n",
    "Le dataset utilisé fait partie de la bibliothèque de [SciKit Learn](https://scikit-learn.org/stable/index.html). Cet outil propose plusieurs ensembles de données. Nous allons nous pencher sur le jeu de donnée contenant des images de chiffres [(sklearn.datasets.load_digits)](https://scikit-learn.org/stable/modules/generated/sklearn.datasets.load_digits.html). Initialement, ces données proviennent [des recherches de l'Université de Californie à Irvine (UCI)](https://archive.ics.uci.edu/ml/datasets/Optical+Recognition+of+Handwritten+Digits).\n",
    "### Analyse\n",
    "L'analyse du jeu de données est utile pour en connaître davantage sur la marche à suivre."
   ]
  },
  {
   "cell_type": "markdown",
   "id": "9efaf701",
   "metadata": {},
   "source": [
    "#### Format des données"
   ]
  },
  {
   "cell_type": "code",
   "execution_count": 45,
   "id": "6dc6a176",
   "metadata": {
    "scrolled": true
   },
   "outputs": [
    {
     "name": "stdout",
     "output_type": "stream",
     "text": [
      "Les données sont contenues dans une matrice de dimension: (1797, 64)\n",
      "Cette matrice comporte donc 1797 images comportant 64 pixels.\n",
      "On peut en déduire que le format des images est 8x8.\n"
     ]
    }
   ],
   "source": [
    "from sklearn.datasets import load_digits\n",
    "import numpy as np\n",
    "\n",
    "digits = load_digits()\n",
    "\n",
    "shape = digits.data.shape\n",
    "nb_images = shape[0]\n",
    "nb_pixels_by_image = shape[1]\n",
    "image_dimension = int(np.sqrt(shape[1]))\n",
    "\n",
    "print(\"Les données sont contenues dans une matrice de dimension: {}\".format(shape))\n",
    "print(\"Cette matrice comporte donc {} images comportant {} pixels.\".format(nb_images, nb_pixels_by_image))\n",
    "print(\"On peut en déduire que le format des images est {}x{}.\".format(image_dimension, image_dimension))"
   ]
  },
  {
   "cell_type": "markdown",
   "id": "3dca3f76",
   "metadata": {},
   "source": [
    "#### Étendue des valeurs de pixels"
   ]
  },
  {
   "cell_type": "code",
   "execution_count": 46,
   "id": "abe55e4c",
   "metadata": {},
   "outputs": [
    {
     "name": "stdout",
     "output_type": "stream",
     "text": [
      "Valeur minimum d'un pixel (noir): 0.0\n",
      "Valeur maximum d'un pixel (blanc): 16.0\n"
     ]
    }
   ],
   "source": [
    "min_pixel_value = np.amin(digits.data)\n",
    "max_pixel_value = np.amax(digits.data)\n",
    "\n",
    "print(\"Valeur minimum d'un pixel (noir): {}\".format(min_pixel_value))\n",
    "print(\"Valeur maximum d'un pixel (blanc): {}\".format(max_pixel_value))"
   ]
  },
  {
   "cell_type": "markdown",
   "id": "695ca393",
   "metadata": {},
   "source": [
    "#### Représentation des données sous forme de tableau\n",
    "* Chaque lignes représentent une image.\n",
    "* Chaque colonnes représentent un pixel d'image."
   ]
  },
  {
   "cell_type": "code",
   "execution_count": 47,
   "id": "ffa4c315",
   "metadata": {
    "scrolled": true
   },
   "outputs": [
    {
     "data": {
      "text/html": [
       "<div>\n",
       "<style scoped>\n",
       "    .dataframe tbody tr th:only-of-type {\n",
       "        vertical-align: middle;\n",
       "    }\n",
       "\n",
       "    .dataframe tbody tr th {\n",
       "        vertical-align: top;\n",
       "    }\n",
       "\n",
       "    .dataframe thead th {\n",
       "        text-align: right;\n",
       "    }\n",
       "</style>\n",
       "<table border=\"1\" class=\"dataframe\">\n",
       "  <thead>\n",
       "    <tr style=\"text-align: right;\">\n",
       "      <th></th>\n",
       "      <th>pixel_0_0</th>\n",
       "      <th>pixel_0_1</th>\n",
       "      <th>pixel_0_2</th>\n",
       "      <th>pixel_0_3</th>\n",
       "      <th>pixel_0_4</th>\n",
       "      <th>pixel_0_5</th>\n",
       "      <th>pixel_0_6</th>\n",
       "      <th>pixel_0_7</th>\n",
       "      <th>pixel_1_0</th>\n",
       "      <th>pixel_1_1</th>\n",
       "      <th>...</th>\n",
       "      <th>pixel_6_6</th>\n",
       "      <th>pixel_6_7</th>\n",
       "      <th>pixel_7_0</th>\n",
       "      <th>pixel_7_1</th>\n",
       "      <th>pixel_7_2</th>\n",
       "      <th>pixel_7_3</th>\n",
       "      <th>pixel_7_4</th>\n",
       "      <th>pixel_7_5</th>\n",
       "      <th>pixel_7_6</th>\n",
       "      <th>pixel_7_7</th>\n",
       "    </tr>\n",
       "  </thead>\n",
       "  <tbody>\n",
       "    <tr>\n",
       "      <th>0</th>\n",
       "      <td>0.0</td>\n",
       "      <td>0.0</td>\n",
       "      <td>5.0</td>\n",
       "      <td>13.0</td>\n",
       "      <td>9.0</td>\n",
       "      <td>1.0</td>\n",
       "      <td>0.0</td>\n",
       "      <td>0.0</td>\n",
       "      <td>0.0</td>\n",
       "      <td>0.0</td>\n",
       "      <td>...</td>\n",
       "      <td>0.0</td>\n",
       "      <td>0.0</td>\n",
       "      <td>0.0</td>\n",
       "      <td>0.0</td>\n",
       "      <td>6.0</td>\n",
       "      <td>13.0</td>\n",
       "      <td>10.0</td>\n",
       "      <td>0.0</td>\n",
       "      <td>0.0</td>\n",
       "      <td>0.0</td>\n",
       "    </tr>\n",
       "    <tr>\n",
       "      <th>1</th>\n",
       "      <td>0.0</td>\n",
       "      <td>0.0</td>\n",
       "      <td>0.0</td>\n",
       "      <td>12.0</td>\n",
       "      <td>13.0</td>\n",
       "      <td>5.0</td>\n",
       "      <td>0.0</td>\n",
       "      <td>0.0</td>\n",
       "      <td>0.0</td>\n",
       "      <td>0.0</td>\n",
       "      <td>...</td>\n",
       "      <td>0.0</td>\n",
       "      <td>0.0</td>\n",
       "      <td>0.0</td>\n",
       "      <td>0.0</td>\n",
       "      <td>0.0</td>\n",
       "      <td>11.0</td>\n",
       "      <td>16.0</td>\n",
       "      <td>10.0</td>\n",
       "      <td>0.0</td>\n",
       "      <td>0.0</td>\n",
       "    </tr>\n",
       "    <tr>\n",
       "      <th>2</th>\n",
       "      <td>0.0</td>\n",
       "      <td>0.0</td>\n",
       "      <td>0.0</td>\n",
       "      <td>4.0</td>\n",
       "      <td>15.0</td>\n",
       "      <td>12.0</td>\n",
       "      <td>0.0</td>\n",
       "      <td>0.0</td>\n",
       "      <td>0.0</td>\n",
       "      <td>0.0</td>\n",
       "      <td>...</td>\n",
       "      <td>5.0</td>\n",
       "      <td>0.0</td>\n",
       "      <td>0.0</td>\n",
       "      <td>0.0</td>\n",
       "      <td>0.0</td>\n",
       "      <td>3.0</td>\n",
       "      <td>11.0</td>\n",
       "      <td>16.0</td>\n",
       "      <td>9.0</td>\n",
       "      <td>0.0</td>\n",
       "    </tr>\n",
       "    <tr>\n",
       "      <th>3</th>\n",
       "      <td>0.0</td>\n",
       "      <td>0.0</td>\n",
       "      <td>7.0</td>\n",
       "      <td>15.0</td>\n",
       "      <td>13.0</td>\n",
       "      <td>1.0</td>\n",
       "      <td>0.0</td>\n",
       "      <td>0.0</td>\n",
       "      <td>0.0</td>\n",
       "      <td>8.0</td>\n",
       "      <td>...</td>\n",
       "      <td>9.0</td>\n",
       "      <td>0.0</td>\n",
       "      <td>0.0</td>\n",
       "      <td>0.0</td>\n",
       "      <td>7.0</td>\n",
       "      <td>13.0</td>\n",
       "      <td>13.0</td>\n",
       "      <td>9.0</td>\n",
       "      <td>0.0</td>\n",
       "      <td>0.0</td>\n",
       "    </tr>\n",
       "    <tr>\n",
       "      <th>4</th>\n",
       "      <td>0.0</td>\n",
       "      <td>0.0</td>\n",
       "      <td>0.0</td>\n",
       "      <td>1.0</td>\n",
       "      <td>11.0</td>\n",
       "      <td>0.0</td>\n",
       "      <td>0.0</td>\n",
       "      <td>0.0</td>\n",
       "      <td>0.0</td>\n",
       "      <td>0.0</td>\n",
       "      <td>...</td>\n",
       "      <td>0.0</td>\n",
       "      <td>0.0</td>\n",
       "      <td>0.0</td>\n",
       "      <td>0.0</td>\n",
       "      <td>0.0</td>\n",
       "      <td>2.0</td>\n",
       "      <td>16.0</td>\n",
       "      <td>4.0</td>\n",
       "      <td>0.0</td>\n",
       "      <td>0.0</td>\n",
       "    </tr>\n",
       "    <tr>\n",
       "      <th>...</th>\n",
       "      <td>...</td>\n",
       "      <td>...</td>\n",
       "      <td>...</td>\n",
       "      <td>...</td>\n",
       "      <td>...</td>\n",
       "      <td>...</td>\n",
       "      <td>...</td>\n",
       "      <td>...</td>\n",
       "      <td>...</td>\n",
       "      <td>...</td>\n",
       "      <td>...</td>\n",
       "      <td>...</td>\n",
       "      <td>...</td>\n",
       "      <td>...</td>\n",
       "      <td>...</td>\n",
       "      <td>...</td>\n",
       "      <td>...</td>\n",
       "      <td>...</td>\n",
       "      <td>...</td>\n",
       "      <td>...</td>\n",
       "      <td>...</td>\n",
       "    </tr>\n",
       "    <tr>\n",
       "      <th>1792</th>\n",
       "      <td>0.0</td>\n",
       "      <td>0.0</td>\n",
       "      <td>4.0</td>\n",
       "      <td>10.0</td>\n",
       "      <td>13.0</td>\n",
       "      <td>6.0</td>\n",
       "      <td>0.0</td>\n",
       "      <td>0.0</td>\n",
       "      <td>0.0</td>\n",
       "      <td>1.0</td>\n",
       "      <td>...</td>\n",
       "      <td>4.0</td>\n",
       "      <td>0.0</td>\n",
       "      <td>0.0</td>\n",
       "      <td>0.0</td>\n",
       "      <td>2.0</td>\n",
       "      <td>14.0</td>\n",
       "      <td>15.0</td>\n",
       "      <td>9.0</td>\n",
       "      <td>0.0</td>\n",
       "      <td>0.0</td>\n",
       "    </tr>\n",
       "    <tr>\n",
       "      <th>1793</th>\n",
       "      <td>0.0</td>\n",
       "      <td>0.0</td>\n",
       "      <td>6.0</td>\n",
       "      <td>16.0</td>\n",
       "      <td>13.0</td>\n",
       "      <td>11.0</td>\n",
       "      <td>1.0</td>\n",
       "      <td>0.0</td>\n",
       "      <td>0.0</td>\n",
       "      <td>0.0</td>\n",
       "      <td>...</td>\n",
       "      <td>1.0</td>\n",
       "      <td>0.0</td>\n",
       "      <td>0.0</td>\n",
       "      <td>0.0</td>\n",
       "      <td>6.0</td>\n",
       "      <td>16.0</td>\n",
       "      <td>14.0</td>\n",
       "      <td>6.0</td>\n",
       "      <td>0.0</td>\n",
       "      <td>0.0</td>\n",
       "    </tr>\n",
       "    <tr>\n",
       "      <th>1794</th>\n",
       "      <td>0.0</td>\n",
       "      <td>0.0</td>\n",
       "      <td>1.0</td>\n",
       "      <td>11.0</td>\n",
       "      <td>15.0</td>\n",
       "      <td>1.0</td>\n",
       "      <td>0.0</td>\n",
       "      <td>0.0</td>\n",
       "      <td>0.0</td>\n",
       "      <td>0.0</td>\n",
       "      <td>...</td>\n",
       "      <td>0.0</td>\n",
       "      <td>0.0</td>\n",
       "      <td>0.0</td>\n",
       "      <td>0.0</td>\n",
       "      <td>2.0</td>\n",
       "      <td>9.0</td>\n",
       "      <td>13.0</td>\n",
       "      <td>6.0</td>\n",
       "      <td>0.0</td>\n",
       "      <td>0.0</td>\n",
       "    </tr>\n",
       "    <tr>\n",
       "      <th>1795</th>\n",
       "      <td>0.0</td>\n",
       "      <td>0.0</td>\n",
       "      <td>2.0</td>\n",
       "      <td>10.0</td>\n",
       "      <td>7.0</td>\n",
       "      <td>0.0</td>\n",
       "      <td>0.0</td>\n",
       "      <td>0.0</td>\n",
       "      <td>0.0</td>\n",
       "      <td>0.0</td>\n",
       "      <td>...</td>\n",
       "      <td>2.0</td>\n",
       "      <td>0.0</td>\n",
       "      <td>0.0</td>\n",
       "      <td>0.0</td>\n",
       "      <td>5.0</td>\n",
       "      <td>12.0</td>\n",
       "      <td>16.0</td>\n",
       "      <td>12.0</td>\n",
       "      <td>0.0</td>\n",
       "      <td>0.0</td>\n",
       "    </tr>\n",
       "    <tr>\n",
       "      <th>1796</th>\n",
       "      <td>0.0</td>\n",
       "      <td>0.0</td>\n",
       "      <td>10.0</td>\n",
       "      <td>14.0</td>\n",
       "      <td>8.0</td>\n",
       "      <td>1.0</td>\n",
       "      <td>0.0</td>\n",
       "      <td>0.0</td>\n",
       "      <td>0.0</td>\n",
       "      <td>2.0</td>\n",
       "      <td>...</td>\n",
       "      <td>8.0</td>\n",
       "      <td>0.0</td>\n",
       "      <td>0.0</td>\n",
       "      <td>1.0</td>\n",
       "      <td>8.0</td>\n",
       "      <td>12.0</td>\n",
       "      <td>14.0</td>\n",
       "      <td>12.0</td>\n",
       "      <td>1.0</td>\n",
       "      <td>0.0</td>\n",
       "    </tr>\n",
       "  </tbody>\n",
       "</table>\n",
       "<p>1797 rows × 64 columns</p>\n",
       "</div>"
      ],
      "text/plain": [
       "      pixel_0_0  pixel_0_1  pixel_0_2  pixel_0_3  pixel_0_4  pixel_0_5  \\\n",
       "0           0.0        0.0        5.0       13.0        9.0        1.0   \n",
       "1           0.0        0.0        0.0       12.0       13.0        5.0   \n",
       "2           0.0        0.0        0.0        4.0       15.0       12.0   \n",
       "3           0.0        0.0        7.0       15.0       13.0        1.0   \n",
       "4           0.0        0.0        0.0        1.0       11.0        0.0   \n",
       "...         ...        ...        ...        ...        ...        ...   \n",
       "1792        0.0        0.0        4.0       10.0       13.0        6.0   \n",
       "1793        0.0        0.0        6.0       16.0       13.0       11.0   \n",
       "1794        0.0        0.0        1.0       11.0       15.0        1.0   \n",
       "1795        0.0        0.0        2.0       10.0        7.0        0.0   \n",
       "1796        0.0        0.0       10.0       14.0        8.0        1.0   \n",
       "\n",
       "      pixel_0_6  pixel_0_7  pixel_1_0  pixel_1_1  ...  pixel_6_6  pixel_6_7  \\\n",
       "0           0.0        0.0        0.0        0.0  ...        0.0        0.0   \n",
       "1           0.0        0.0        0.0        0.0  ...        0.0        0.0   \n",
       "2           0.0        0.0        0.0        0.0  ...        5.0        0.0   \n",
       "3           0.0        0.0        0.0        8.0  ...        9.0        0.0   \n",
       "4           0.0        0.0        0.0        0.0  ...        0.0        0.0   \n",
       "...         ...        ...        ...        ...  ...        ...        ...   \n",
       "1792        0.0        0.0        0.0        1.0  ...        4.0        0.0   \n",
       "1793        1.0        0.0        0.0        0.0  ...        1.0        0.0   \n",
       "1794        0.0        0.0        0.0        0.0  ...        0.0        0.0   \n",
       "1795        0.0        0.0        0.0        0.0  ...        2.0        0.0   \n",
       "1796        0.0        0.0        0.0        2.0  ...        8.0        0.0   \n",
       "\n",
       "      pixel_7_0  pixel_7_1  pixel_7_2  pixel_7_3  pixel_7_4  pixel_7_5  \\\n",
       "0           0.0        0.0        6.0       13.0       10.0        0.0   \n",
       "1           0.0        0.0        0.0       11.0       16.0       10.0   \n",
       "2           0.0        0.0        0.0        3.0       11.0       16.0   \n",
       "3           0.0        0.0        7.0       13.0       13.0        9.0   \n",
       "4           0.0        0.0        0.0        2.0       16.0        4.0   \n",
       "...         ...        ...        ...        ...        ...        ...   \n",
       "1792        0.0        0.0        2.0       14.0       15.0        9.0   \n",
       "1793        0.0        0.0        6.0       16.0       14.0        6.0   \n",
       "1794        0.0        0.0        2.0        9.0       13.0        6.0   \n",
       "1795        0.0        0.0        5.0       12.0       16.0       12.0   \n",
       "1796        0.0        1.0        8.0       12.0       14.0       12.0   \n",
       "\n",
       "      pixel_7_6  pixel_7_7  \n",
       "0           0.0        0.0  \n",
       "1           0.0        0.0  \n",
       "2           9.0        0.0  \n",
       "3           0.0        0.0  \n",
       "4           0.0        0.0  \n",
       "...         ...        ...  \n",
       "1792        0.0        0.0  \n",
       "1793        0.0        0.0  \n",
       "1794        0.0        0.0  \n",
       "1795        0.0        0.0  \n",
       "1796        1.0        0.0  \n",
       "\n",
       "[1797 rows x 64 columns]"
      ]
     },
     "execution_count": 47,
     "metadata": {},
     "output_type": "execute_result"
    }
   ],
   "source": [
    "import pandas as pd\n",
    "\n",
    "data_frame = pd.DataFrame(digits.data, columns=digits.feature_names)\n",
    "data_frame"
   ]
  },
  {
   "cell_type": "markdown",
   "id": "a907ad93",
   "metadata": {},
   "source": [
    "#### Affichage d'une image"
   ]
  },
  {
   "cell_type": "code",
   "execution_count": 48,
   "id": "bf57fbbb",
   "metadata": {},
   "outputs": [
    {
     "name": "stdout",
     "output_type": "stream",
     "text": [
      "Voici une image représentant un 3\n"
     ]
    },
    {
     "data": {
      "image/png": "[encoded data removed]",
      "text/plain": [
       "<Figure size 480x480 with 1 Axes>"
      ]
     },
     "metadata": {},
     "output_type": "display_data"
    }
   ],
   "source": [
    "import matplotlib.pyplot as plt\n",
    "\n",
    "# Sélection aléatoire d'une image\n",
    "id_image = np.random.randint(len(digits.target))\n",
    "\n",
    "print(\"Voici une image représentant un {}\".format(digits.target[id_image]))\n",
    "\n",
    "plt.matshow(digits.images[id_image])\n",
    "plt.show()"
   ]
  },
  {
   "cell_type": "markdown",
   "id": "a9dc9a17",
   "metadata": {},
   "source": [
    "#### Affichage de plusieurs images"
   ]
  },
  {
   "cell_type": "code",
   "execution_count": 49,
   "id": "ced68d3b",
   "metadata": {},
   "outputs": [
    {
     "data": {
      "image/png": "[encoded data removed]",
      "text/plain": [
       "<Figure size 1200x600 with 200 Axes>"
      ]
     },
     "metadata": {},
     "output_type": "display_data"
    }
   ],
   "source": [
    "from sklearn.datasets import load_digits\n",
    "import matplotlib.pyplot as plt\n",
    "\n",
    "digits = load_digits()\n",
    "\n",
    "fig, axs = plt.subplots(nrows=10, ncols=20, figsize=(12, 6))\n",
    "for idx, ax in enumerate(axs.flatten()):\n",
    "    ax.axis(\"off\")\n",
    "    ax.matshow(digits.images[idx])"
   ]
  },
  {
   "cell_type": "markdown",
   "id": "fd1efc89",
   "metadata": {},
   "source": [
    "### Nettoyage\n",
    "Cette partie consiste à vérifier la propreté des données. Il s'agit de vérifier si les données que nous possédons sont utilisables."
   ]
  },
  {
   "cell_type": "markdown",
   "id": "8e5aedd0",
   "metadata": {},
   "source": [
    "<div class=\"alert alert-warning\">\n",
    "    <b>Il existe 6 principales caractéristiques d&apos;une donnée propre :</b><br>\n",
    "    <ol>\n",
    "        <li><b>Complétude</b>: Est-ce qu'il existe des valeurs null ?</li>\n",
    "        <li><b>Conformité</b>: Est-ce que les valeurs sont toutes dans le même format ?</li>\n",
    "        <li><b>Cohérence</b>: Est-ce que des valeurs rentrent en conflit ?</li>\n",
    "        <li><b>Exactitude</b>: Est-ce que des valeurs sont périmées ?</li>\n",
    "        <li><b>Duplication</b>: Existe-t-il des doublons ?</li>\n",
    "        <li><b>Intégrité</b>: Les données sont-elles vérifiables et référencée ?</li>\n",
    "    </ol>\n",
    "</div>"
   ]
  },
  {
   "cell_type": "markdown",
   "id": "ed994b4b",
   "metadata": {},
   "source": [
    "Dans le cas de ce projet, seuls les caractéristiques de Complétude et Conformité sont pertinentes à vérifier."
   ]
  },
  {
   "cell_type": "markdown",
   "id": "ca06253e",
   "metadata": {},
   "source": [
    "#### Complétude\n",
    "Un simple parcourt du tableau permet de savoir s'il existe des valeurs *null*\n",
    "\n",
    "En python, les valeurs *null* sont représentées par un type *None*"
   ]
  },
  {
   "cell_type": "code",
   "execution_count": 50,
   "id": "24fe3060",
   "metadata": {},
   "outputs": [],
   "source": [
    "for i in range(len(digits.data)):\n",
    "    for j in range(len(digits.data[i])):\n",
    "        value_type = type(digits.data[i][j])\n",
    "        if (value_type is None):\n",
    "            print(\"null value at ({}, {})\".format(i, j))"
   ]
  },
  {
   "cell_type": "markdown",
   "id": "0924116a",
   "metadata": {},
   "source": [
    "<div class=\"alert alert-success\">\n",
    "    Rien est affiché, nous avons donc des données <b>complètes</b> !\n",
    "</div>"
   ]
  },
  {
   "cell_type": "markdown",
   "id": "1213e5ae",
   "metadata": {},
   "source": [
    "#### Conformité\n",
    "Par analyse du tableau ci-dessus, on considère que la première valeur est du bon type.\n",
    "\n",
    "Cherchons donc le type de variable de la première valeur :"
   ]
  },
  {
   "cell_type": "code",
   "execution_count": 51,
   "id": "94c96b41",
   "metadata": {},
   "outputs": [
    {
     "data": {
      "text/plain": [
       "numpy.float64"
      ]
     },
     "execution_count": 51,
     "metadata": {},
     "output_type": "execute_result"
    }
   ],
   "source": [
    "type(digits.data[0][0])"
   ]
  },
  {
   "cell_type": "markdown",
   "id": "57134bc4",
   "metadata": {},
   "source": [
    "Il nous suffit de vérifier si toutes les valeurs correspondent bien avec le type *numpy.float64*\n",
    "\n",
    "Avec le code ci-dessous, on parcourt toute la matrice de données et on affiche une valeur si elle est différente de *numpy.float64*"
   ]
  },
  {
   "cell_type": "code",
   "execution_count": 52,
   "id": "828a6abf",
   "metadata": {},
   "outputs": [],
   "source": [
    "target_type = type(digits.data[0][0])\n",
    "\n",
    "for i in range(len(digits.data)):\n",
    "    for j in range(len(digits.data[i])):\n",
    "        value_type = type(digits.data[i][j])\n",
    "        if (value_type != target_type):\n",
    "            print(\"Wrong value at ({}, {})\".format(i, j))"
   ]
  },
  {
   "cell_type": "markdown",
   "id": "99716d16",
   "metadata": {},
   "source": [
    "<div class=\"alert alert-success\">\n",
    "    Rien est affiché, nous avons donc des données <b>conformes</b> !\n",
    "</div>"
   ]
  },
  {
   "cell_type": "markdown",
   "id": "dc32d778",
   "metadata": {},
   "source": [
    "## Modélisation"
   ]
  },
  {
   "cell_type": "markdown",
   "id": "78baf054",
   "metadata": {},
   "source": [
    "<div class=\"alert alert-warning\">\n",
    "    <b>L'apprentissage supervisé comporte plusieurs familles d'algorithme.</b><br>\n",
    "    Lors de la formation, deux ont été développés :\n",
    "    <ul>\n",
    "        <li><b>La régression</b>: permet de prédire une valeur dans un monde continu.</li>\n",
    "        <li><b>La classification</b>: permet de catégoriser des valeurs.</li>\n",
    "    </ul>\n",
    "</div>"
   ]
  },
  {
   "cell_type": "markdown",
   "id": "aa0cf4d8",
   "metadata": {},
   "source": [
    "### Modélisation du problème"
   ]
  },
  {
   "cell_type": "markdown",
   "id": "f7df5b91",
   "metadata": {},
   "source": [
    "#### Entrée\n",
    "L'[analyse de notre jeu de données](#Analyse) nous permet de s'avoir que l'entrée de notre modèle est une liste d'array de taille 64.<br>\n",
    "Chaque élément d'une array est un pixel traduit d'une nuance de gris allant de 0 à 16.\n",
    "\\begin{equation*}\n",
    "\\mathcal{X} = \\mathbb{N}^{64} \\in [0, 16]\n",
    "\\end{equation*}\n",
    "#### Sortie\n",
    "En sortie de notre prédiction, nous souhaitons connaître le chiffre contenu dans chaque image.<br>\n",
    "La valeur de retour est un chiffre entre 0 et 9.<br>\n",
    "Cette valeur est discontinue :\n",
    "\\begin{equation*}\n",
    "\\mathcal{Y} = \\mathbb{N} \\in [0, 9]\n",
    "\\end{equation*}\n",
    "#### Choix de l'algorithme\n",
    "On souhaite donc **classer** chaque entrée $\\mathcal{X}$ en 10 groupes.<br>\n",
    "<div class=\"alert alert-success\">\n",
    "    L'algorithme le plus approprié pour résoudre notre problème est <b>la classification</b> !\n",
    "</div>"
   ]
  },
  {
   "cell_type": "markdown",
   "id": "b5460f82",
   "metadata": {},
   "source": [
    "### Définition de la méthodologie"
   ]
  },
  {
   "cell_type": "markdown",
   "id": "bfb2a358",
   "metadata": {},
   "source": [
    "La méthodologie est importante à décider en amont de l'implémentation. Il serait impensable de batir un immeuble sans plan. Il en va de même pour le machine learning.\n",
    "\n",
    "Faisons un inventaire de nos connaissances utiles afin établir notre plan d'action.<br>\n",
    "Nous connaissons:\n",
    "- Nos entrées `X = digits.data`\n",
    "- Notre sortie cible `y = digits.target`\n",
    "- Le type d'apprentissage à mettre en place `Classification Linéaire`\n",
    "\n",
    "Il nous reste à trouver:\n",
    "1. L'utilitaire de SciKit Learn nous permettant de mettre en place cette classification\n",
    "2. Une ou plusieurs méthodes de validation du modèle\n",
    "\n",
    "#### 1. Utilitaire SciKit Learn\n",
    "La bibliothèque SciKit propose plusieurs outils de classification tels que *Passive Aggressive Classifier*, *Linear perceptron classifier* et *Logistic Regression*.\n",
    "\n",
    "Notre choix s'est premièrement porté sur des technologies employées lors des travaux pratiques : *Linear perceptron classifier* ou *Logistic Regression*.\n",
    "\n",
    "Deuxièmement, le *perceptron* ne propose que deux sorties $\\mathbb{Y}$. Or, notre modèle doit posséder un panel de 10 sorties différentes.\n",
    "\n",
    "<div class=\"alert alert-success\">\n",
    "    Notre choix s'est donc tourné vers la <b>Logistic Regression</b> !\n",
    "</div>\n",
    "\n",
    "#### 2. Méthode de validation du modèle\n",
    "\n",
    "En classification il existe plusieurs évaluateurs de modèles :\n",
    "- Accuracy: Combien a-t-on de bonnes réponses sur l'ensemble des prédictions ?\n",
    "- Precision: Sur tous les éléments positifs, combien sont corrects ?\n",
    "- Recall: Sur l'ensemble de positif réels, combien ont été détecté comme positif ?\n",
    "- F-measure: Cette fonction est correcte pour des sorties binaires, ce qui n'est pas le cas de notre modèle.\n",
    "\n",
    "Comme notre jeu de données n'est pas très gros, toutes ces valeurs devraient être assez proches.\n",
    "Ici, nous nous intéresserons surtout à la mesure `accuracy`."
   ]
  },
  {
   "cell_type": "markdown",
   "id": "02aee37d",
   "metadata": {},
   "source": [
    "## Implémentation\n",
    "\n",
    "Initialisons les valeurs de notre modèle."
   ]
  },
  {
   "cell_type": "code",
   "execution_count": 53,
   "id": "09ada53c",
   "metadata": {
    "scrolled": true
   },
   "outputs": [],
   "source": [
    "from sklearn.model_selection import train_test_split\n",
    "from sklearn.linear_model import LogisticRegression\n",
    "import matplotlib.pyplot as plt\n",
    "\n",
    "# les entrées\n",
    "X = digits.data\n",
    "\n",
    "# les valeurs cibles\n",
    "y = digits.target\n",
    "\n",
    "# séparons les données d'apprentissages des données de test\n",
    "X_train, X_test, y_train, y_test = train_test_split(X, y, test_size=0.2, random_state=42)"
   ]
  },
  {
   "cell_type": "markdown",
   "id": "5e7c8b95",
   "metadata": {},
   "source": [
    "Initialisation du LogisticRegressor"
   ]
  },
  {
   "cell_type": "code",
   "execution_count": 54,
   "id": "016684dd",
   "metadata": {},
   "outputs": [
    {
     "data": {
      "text/plain": [
       "LogisticRegression(max_iter=50000)"
      ]
     },
     "execution_count": 54,
     "metadata": {},
     "output_type": "execute_result"
    }
   ],
   "source": [
    "# train a logistic regression model\n",
    "regressor = LogisticRegression(max_iter=50000)\n",
    "regressor.fit(X_train, y_train)"
   ]
  },
  {
   "cell_type": "markdown",
   "id": "693dad0a",
   "metadata": {},
   "source": [
    "Prédiction"
   ]
  },
  {
   "cell_type": "code",
   "execution_count": 55,
   "id": "ae6ee0bc",
   "metadata": {},
   "outputs": [],
   "source": [
    "# make predictions on the test set\n",
    "y_pred = regressor.predict(X_test)"
   ]
  },
  {
   "cell_type": "markdown",
   "id": "3e07929c",
   "metadata": {},
   "source": [
    "Évaluation du modèle"
   ]
  },
  {
   "cell_type": "code",
   "execution_count": 56,
   "id": "072ae0a6",
   "metadata": {},
   "outputs": [
    {
     "name": "stdout",
     "output_type": "stream",
     "text": [
      "Pour que le modèle soit efficace, chaque valeurs doivent être proche de 1.0\n",
      "Accuracy: 0.9722222222222222\n",
      "Precision: 0.9735814591088425\n",
      "Recall: 0.9743702791014647\n",
      "F1-score: 0.9738640962411946\n"
     ]
    }
   ],
   "source": [
    "from sklearn.metrics import accuracy_score, precision_score, recall_score, f1_score\n",
    "# evaluate the model's performance\n",
    "acc = accuracy_score(y_test, y_pred)\n",
    "prec = precision_score(y_test, y_pred, average='macro')\n",
    "rec = recall_score(y_test, y_pred, average='macro')\n",
    "f1 = f1_score(y_test, y_pred, average='macro')\n",
    "\n",
    "print(\"Pour que le modèle soit efficace, chaque valeurs doivent être proche de 1.0\")\n",
    "print(\"Accuracy:\", acc)\n",
    "print(\"Precision:\", prec)\n",
    "print(\"Recall:\", rec)\n",
    "print(\"F1-score:\", f1)"
   ]
  },
  {
   "cell_type": "markdown",
   "id": "955118d5",
   "metadata": {},
   "source": [
    "Affichage des mauvaises prédictions"
   ]
  },
  {
   "cell_type": "code",
   "execution_count": 57,
   "id": "f436ed1c",
   "metadata": {},
   "outputs": [
    {
     "data": {
      "text/plain": [
       "<Figure size 640x480 with 0 Axes>"
      ]
     },
     "metadata": {},
     "output_type": "display_data"
    },
    {
     "data": {
      "image/png": "[encoded data removed]",
      "text/plain": [
       "<Figure size 480x480 with 1 Axes>"
      ]
     },
     "metadata": {},
     "output_type": "display_data"
    },
    {
     "name": "stdout",
     "output_type": "stream",
     "text": [
      "Prediction: 3 Target: 9\n"
     ]
    },
    {
     "data": {
      "text/plain": [
       "<Figure size 640x480 with 0 Axes>"
      ]
     },
     "metadata": {},
     "output_type": "display_data"
    },
    {
     "data": {
      "image/png": "[encoded data removed]",
      "text/plain": [
       "<Figure size 480x480 with 1 Axes>"
      ]
     },
     "metadata": {},
     "output_type": "display_data"
    },
    {
     "name": "stdout",
     "output_type": "stream",
     "text": [
      "Prediction: 5 Target: 7\n"
     ]
    },
    {
     "data": {
      "text/plain": [
       "<Figure size 640x480 with 0 Axes>"
      ]
     },
     "metadata": {},
     "output_type": "display_data"
    },
    {
     "data": {
      "image/png": "[encoded data removed]",
      "text/plain": [
       "<Figure size 480x480 with 1 Axes>"
      ]
     },
     "metadata": {},
     "output_type": "display_data"
    },
    {
     "name": "stdout",
     "output_type": "stream",
     "text": [
      "Prediction: 5 Target: 3\n"
     ]
    },
    {
     "data": {
      "text/plain": [
       "<Figure size 640x480 with 0 Axes>"
      ]
     },
     "metadata": {},
     "output_type": "display_data"
    },
    {
     "data": {
      "image/png": "[encoded data removed]",
      "text/plain": [
       "<Figure size 480x480 with 1 Axes>"
      ]
     },
     "metadata": {},
     "output_type": "display_data"
    },
    {
     "name": "stdout",
     "output_type": "stream",
     "text": [
      "Prediction: 8 Target: 9\n"
     ]
    },
    {
     "data": {
      "text/plain": [
       "<Figure size 640x480 with 0 Axes>"
      ]
     },
     "metadata": {},
     "output_type": "display_data"
    },
    {
     "data": {
      "image/png": "[encoded data removed]",
      "text/plain": [
       "<Figure size 480x480 with 1 Axes>"
      ]
     },
     "metadata": {},
     "output_type": "display_data"
    },
    {
     "name": "stdout",
     "output_type": "stream",
     "text": [
      "Prediction: 2 Target: 5\n"
     ]
    },
    {
     "data": {
      "text/plain": [
       "<Figure size 640x480 with 0 Axes>"
      ]
     },
     "metadata": {},
     "output_type": "display_data"
    },
    {
     "data": {
      "image/png": "[encoded data removed]",
      "text/plain": [
       "<Figure size 480x480 with 1 Axes>"
      ]
     },
     "metadata": {},
     "output_type": "display_data"
    },
    {
     "name": "stdout",
     "output_type": "stream",
     "text": [
      "Prediction: 1 Target: 4\n"
     ]
    },
    {
     "data": {
      "text/plain": [
       "<Figure size 640x480 with 0 Axes>"
      ]
     },
     "metadata": {},
     "output_type": "display_data"
    },
    {
     "data": {
      "image/png": "[encoded data removed]",
      "text/plain": [
       "<Figure size 480x480 with 1 Axes>"
      ]
     },
     "metadata": {},
     "output_type": "display_data"
    },
    {
     "name": "stdout",
     "output_type": "stream",
     "text": [
      "Prediction: 9 Target: 5\n"
     ]
    },
    {
     "data": {
      "text/plain": [
       "<Figure size 640x480 with 0 Axes>"
      ]
     },
     "metadata": {},
     "output_type": "display_data"
    },
    {
     "data": {
      "image/png": "[encoded data removed]",
      "text/plain": [
       "<Figure size 480x480 with 1 Axes>"
      ]
     },
     "metadata": {},
     "output_type": "display_data"
    },
    {
     "name": "stdout",
     "output_type": "stream",
     "text": [
      "Prediction: 5 Target: 8\n"
     ]
    },
    {
     "data": {
      "text/plain": [
       "<Figure size 640x480 with 0 Axes>"
      ]
     },
     "metadata": {},
     "output_type": "display_data"
    },
    {
     "data": {
      "image/png": "[encoded data removed]",
      "text/plain": [
       "<Figure size 480x480 with 1 Axes>"
      ]
     },
     "metadata": {},
     "output_type": "display_data"
    },
    {
     "name": "stdout",
     "output_type": "stream",
     "text": [
      "Prediction: 5 Target: 6\n"
     ]
    },
    {
     "data": {
      "text/plain": [
       "<Figure size 640x480 with 0 Axes>"
      ]
     },
     "metadata": {},
     "output_type": "display_data"
    },
    {
     "data": {
      "image/png": "[encoded data removed]",
      "text/plain": [
       "<Figure size 480x480 with 1 Axes>"
      ]
     },
     "metadata": {},
     "output_type": "display_data"
    },
    {
     "name": "stdout",
     "output_type": "stream",
     "text": [
      "Prediction: 6 Target: 5\n"
     ]
    }
   ],
   "source": [
    "for false_image_index in range(len(y_pred)):\n",
    "    if (y_pred[false_image_index] != y_test[false_image_index]):\n",
    "        plt.gray()\n",
    "        plt.matshow(np.reshape(X_test[false_image_index], (image_dimension, image_dimension)))\n",
    "        plt.show()\n",
    "        print(\"Prediction: {} Target: {}\".format(y_pred[false_image_index], y_test[false_image_index]))"
   ]
  },
  {
   "cell_type": "markdown",
   "id": "34cc5d62",
   "metadata": {},
   "source": [
    "Affichage de bonnes prédictions<br>\n",
    "Pour ne pas trop surcharger l'affichage, on décide d'afficher que les `nb_affichage` premières images/prédictions."
   ]
  },
  {
   "cell_type": "code",
   "execution_count": 58,
   "id": "011a495e",
   "metadata": {},
   "outputs": [
    {
     "data": {
      "text/plain": [
       "<Figure size 640x480 with 0 Axes>"
      ]
     },
     "metadata": {},
     "output_type": "display_data"
    },
    {
     "data": {
      "image/png": "[encoded data removed]",
      "text/plain": [
       "<Figure size 480x480 with 1 Axes>"
      ]
     },
     "metadata": {},
     "output_type": "display_data"
    },
    {
     "name": "stdout",
     "output_type": "stream",
     "text": [
      "Prédiction: 6 Target: 6\n"
     ]
    },
    {
     "data": {
      "text/plain": [
       "<Figure size 640x480 with 0 Axes>"
      ]
     },
     "metadata": {},
     "output_type": "display_data"
    },
    {
     "data": {
      "image/png": "[encoded data removed]",
      "text/plain": [
       "<Figure size 480x480 with 1 Axes>"
      ]
     },
     "metadata": {},
     "output_type": "display_data"
    },
    {
     "name": "stdout",
     "output_type": "stream",
     "text": [
      "Prédiction: 9 Target: 9\n"
     ]
    },
    {
     "data": {
      "text/plain": [
       "<Figure size 640x480 with 0 Axes>"
      ]
     },
     "metadata": {},
     "output_type": "display_data"
    },
    {
     "data": {
      "image/png": "[encoded data removed]",
      "text/plain": [
       "<Figure size 480x480 with 1 Axes>"
      ]
     },
     "metadata": {},
     "output_type": "display_data"
    },
    {
     "name": "stdout",
     "output_type": "stream",
     "text": [
      "Prédiction: 3 Target: 3\n"
     ]
    },
    {
     "data": {
      "text/plain": [
       "<Figure size 640x480 with 0 Axes>"
      ]
     },
     "metadata": {},
     "output_type": "display_data"
    },
    {
     "data": {
      "image/png": "[encoded data removed]",
      "text/plain": [
       "<Figure size 480x480 with 1 Axes>"
      ]
     },
     "metadata": {},
     "output_type": "display_data"
    },
    {
     "name": "stdout",
     "output_type": "stream",
     "text": [
      "Prédiction: 7 Target: 7\n"
     ]
    },
    {
     "data": {
      "text/plain": [
       "<Figure size 640x480 with 0 Axes>"
      ]
     },
     "metadata": {},
     "output_type": "display_data"
    },
    {
     "data": {
      "image/png": "[encoded data removed]",
      "text/plain": [
       "<Figure size 480x480 with 1 Axes>"
      ]
     },
     "metadata": {},
     "output_type": "display_data"
    },
    {
     "name": "stdout",
     "output_type": "stream",
     "text": [
      "Prédiction: 2 Target: 2\n"
     ]
    },
    {
     "data": {
      "text/plain": [
       "<Figure size 640x480 with 0 Axes>"
      ]
     },
     "metadata": {},
     "output_type": "display_data"
    },
    {
     "data": {
      "image/png": "[encoded data removed]",
      "text/plain": [
       "<Figure size 480x480 with 1 Axes>"
      ]
     },
     "metadata": {},
     "output_type": "display_data"
    },
    {
     "name": "stdout",
     "output_type": "stream",
     "text": [
      "Prédiction: 1 Target: 1\n"
     ]
    },
    {
     "data": {
      "text/plain": [
       "<Figure size 640x480 with 0 Axes>"
      ]
     },
     "metadata": {},
     "output_type": "display_data"
    },
    {
     "data": {
      "image/png": "[encoded data removed]",
      "text/plain": [
       "<Figure size 480x480 with 1 Axes>"
      ]
     },
     "metadata": {},
     "output_type": "display_data"
    },
    {
     "name": "stdout",
     "output_type": "stream",
     "text": [
      "Prédiction: 5 Target: 5\n"
     ]
    },
    {
     "data": {
      "text/plain": [
       "<Figure size 640x480 with 0 Axes>"
      ]
     },
     "metadata": {},
     "output_type": "display_data"
    },
    {
     "data": {
      "image/png": "[encoded data removed]",
      "text/plain": [
       "<Figure size 480x480 with 1 Axes>"
      ]
     },
     "metadata": {},
     "output_type": "display_data"
    },
    {
     "name": "stdout",
     "output_type": "stream",
     "text": [
      "Prédiction: 2 Target: 2\n"
     ]
    },
    {
     "data": {
      "text/plain": [
       "<Figure size 640x480 with 0 Axes>"
      ]
     },
     "metadata": {},
     "output_type": "display_data"
    },
    {
     "data": {
      "image/png": "[encoded data removed]",
      "text/plain": [
       "<Figure size 480x480 with 1 Axes>"
      ]
     },
     "metadata": {},
     "output_type": "display_data"
    },
    {
     "name": "stdout",
     "output_type": "stream",
     "text": [
      "Prédiction: 5 Target: 5\n"
     ]
    },
    {
     "data": {
      "text/plain": [
       "<Figure size 640x480 with 0 Axes>"
      ]
     },
     "metadata": {},
     "output_type": "display_data"
    },
    {
     "data": {
      "image/png": "[encoded data removed]",
      "text/plain": [
       "<Figure size 480x480 with 1 Axes>"
      ]
     },
     "metadata": {},
     "output_type": "display_data"
    },
    {
     "name": "stdout",
     "output_type": "stream",
     "text": [
      "Prédiction: 2 Target: 2\n"
     ]
    }
   ],
   "source": [
    "nb_affichage = 10\n",
    "for image_index in range(nb_affichage):\n",
    "    plt.gray()\n",
    "    plt.matshow(np.reshape(X_test[image_index], (image_dimension, image_dimension)))\n",
    "    plt.show()\n",
    "    print(\"Prédiction: {} Target: {}\".format(y_pred[image_index], y_test[image_index]))"
   ]
  },
  {
   "cell_type": "markdown",
   "id": "57b0dff4",
   "metadata": {},
   "source": [
    "## Résultats\n",
    "\n",
    "Avec une réussite d'environ 0.97, notre modèle est très satisfaisant.\n",
    "En effet, nous avons pu l'entraîner sur plusieurs centaines d'images et cela se ressent dans nos résultats comme nous pouvons le constater ci-dessus.\n"
   ]
  },
  {
   "cell_type": "code",
   "execution_count": 59,
   "id": "d88609c6",
   "metadata": {},
   "outputs": [
    {
     "name": "stdout",
     "output_type": "stream",
     "text": [
      "Rappel des résultats\n",
      "Exactitude: 0.9722222222222222\n",
      "Précision: 0.9735814591088425\n"
     ]
    }
   ],
   "source": [
    "print(\"Rappel des résultats\")\n",
    "print(\"Exactitude:\", acc)\n",
    "print(\"Précision:\", prec)"
   ]
  },
  {
   "cell_type": "markdown",
   "id": "d476f0f6",
   "metadata": {},
   "source": [
    "### Pour aller plus loin\n",
    "\n",
    "Après ces très bons résultats, nous avons voulu aller plus loin.\n",
    "En effet, nous nous sommes dit que cela serait encore plus impressionnant si notre modèle pouvait nous deviner le chiffre présent sur une image que nous avions nous même créée auparavant.\n",
    "\n",
    "Pour ce faire, nous avons dessiné un chiffre sur un cadre 8x8 à l'aide d'un outil comme GIMP ou Photopea et nous avons ensuite exécuté le code suivant. Ce code lit l'image précédemment chargée pixel après pixel afin d'en définir le code RGB que nous ramenons ensuite à un chiffre de 0 à 16 conforme à ce que nous avons pu lire sur les matrices des images présentes dans le dataset."
   ]
  },
  {
   "cell_type": "code",
   "execution_count": 60,
   "id": "5991f927",
   "metadata": {},
   "outputs": [
    {
     "name": "stdout",
     "output_type": "stream",
     "text": [
      "[ 0  0  0  0  1  0  0  0  0  0  0  6 14  0  0  0  1  0  9  9 11  0  0  0\n",
      "  0 10  3  0 11  0  0  0  0  2  0  0 10  1  0  0  0  0  0  0 10  0  0  0\n",
      "  1  0  0  0  9  0  0  0  0  0  0  0  7  1  0  0]\n"
     ]
    }
   ],
   "source": [
    "from PIL import Image\n",
    "\n",
    "img = Image.open('1.jpg')\n",
    "\n",
    "pixels = []\n",
    "\n",
    "for y in range(8):\n",
    "    for x in range(8):\n",
    "        r, g, b = img.getpixel((x, y))\n",
    "        value = int((16*r)/256)\n",
    "        pixels.append(value)\n",
    "\n",
    "pixels = np.asarray(pixels)\n",
    "print(pixels) "
   ]
  },
  {
   "cell_type": "code",
   "execution_count": 61,
   "id": "f9a954bf",
   "metadata": {
    "scrolled": true
   },
   "outputs": [
    {
     "name": "stdout",
     "output_type": "stream",
     "text": [
      "Prediction: [4]\n"
     ]
    },
    {
     "name": "stderr",
     "output_type": "stream",
     "text": [
      "/home/clement/anaconda3/lib/python3.9/site-packages/sklearn/utils/validation.py:593: FutureWarning: np.matrix usage is deprecated in 1.0 and will raise a TypeError in 1.2. Please convert to a numpy array with np.asarray. For more information see: https://numpy.org/doc/stable/reference/generated/numpy.matrix.html\n",
      "  warnings.warn(\n"
     ]
    }
   ],
   "source": [
    "prediction = regressor.predict(np.asmatrix(pixels))\n",
    "\n",
    "#plt.matshow(np.asmatrix(pixels))\n",
    "#plt.show()\n",
    "\n",
    "print(\"Prediction: {}\".format(prediction))"
   ]
  },
  {
   "cell_type": "markdown",
   "id": "d5a32837",
   "metadata": {},
   "source": [
    "<div class=\"alert alert-success\">\n",
    "    Nous pouvons voir que la prédiction n'est malheureusement pas la bonne...\n",
    "    L'image représente un 1 et le modèle nous prédit un 4 et de même pour un 5 que nous avons aussi créé (présent également dans ce dossier) nous avons eu une mauvaise prédiction.\n",
    "<div>"
   ]
  },
  {
   "cell_type": "markdown",
   "id": "4f797f91",
   "metadata": {},
   "source": [
    "## Conclusion"
   ]
  },
  {
   "cell_type": "markdown",
   "id": "9968c262",
   "metadata": {},
   "source": [
    "<div class=\"alert alert-success\">\n",
    "    Nous avons réussi avec ces différents codes python, à obtenir un modèle très précis qui ne se trompe que très rarement.\n",
    "    Cependant, ce modèle possède ses limites... En effet, le traitement de l'image en amont de la prédiction est très importante et il faut qu'il soit similaire à celui effectué sur les images du dataset pour que la prédiction soit bonne.\n",
    "    Nous pensons que c'est à cause de cela que les prédictions sur les images créées par nos soins n'étaient pas les bonnes.\n",
    "    Nous pensons aussi qu'un entraînement plus poussé sur des images créées par GIMP par exemple nous permettrait d'atteindre notre objectif. Cependant il faudrait créer énormément d'images assez différentes les unes des autres afin que le modèle soit puissant...\n",
    "<div>"
   ]
  }
 ],
 "metadata": {
  "kernelspec": {
   "display_name": "Python 3 (ipykernel)",
   "language": "python",
   "name": "python3"
  },
  "language_info": {
   "codemirror_mode": {
    "name": "ipython",
    "version": 3
   },
   "file_extension": ".py",
   "mimetype": "text/x-python",
   "name": "python",
   "nbconvert_exporter": "python",
   "pygments_lexer": "ipython3",
   "version": "3.9.13"
  }
 },
 "nbformat": 4,
 "nbformat_minor": 5
}
